{
 "cells": [
  {
   "cell_type": "markdown",
   "metadata": {},
   "source": [
    "# Dependencies"
   ]
  },
  {
   "cell_type": "code",
   "execution_count": 1,
   "metadata": {
    "scrolled": true
   },
   "outputs": [
    {
     "name": "stdout",
     "output_type": "stream",
     "text": [
      "Requirement already satisfied: anyio==4.6.2.post1 in c:\\study\\msds\\ml2\\bbc_mini_project\\env\\lib\\site-packages (from -r requirements.txt (line 1)) (4.6.2.post1)\n",
      "Requirement already satisfied: argon2-cffi==23.1.0 in c:\\study\\msds\\ml2\\bbc_mini_project\\env\\lib\\site-packages (from -r requirements.txt (line 2)) (23.1.0)\n",
      "Requirement already satisfied: argon2-cffi-bindings==21.2.0 in c:\\study\\msds\\ml2\\bbc_mini_project\\env\\lib\\site-packages (from -r requirements.txt (line 3)) (21.2.0)\n",
      "Requirement already satisfied: arrow==1.3.0 in c:\\study\\msds\\ml2\\bbc_mini_project\\env\\lib\\site-packages (from -r requirements.txt (line 4)) (1.3.0)\n",
      "Requirement already satisfied: asttokens==2.4.1 in c:\\study\\msds\\ml2\\bbc_mini_project\\env\\lib\\site-packages (from -r requirements.txt (line 5)) (2.4.1)\n",
      "Requirement already satisfied: async-lru==2.0.4 in c:\\study\\msds\\ml2\\bbc_mini_project\\env\\lib\\site-packages (from -r requirements.txt (line 6)) (2.0.4)\n",
      "Requirement already satisfied: attrs==24.2.0 in c:\\study\\msds\\ml2\\bbc_mini_project\\env\\lib\\site-packages (from -r requirements.txt (line 7)) (24.2.0)\n",
      "Requirement already satisfied: babel==2.16.0 in c:\\study\\msds\\ml2\\bbc_mini_project\\env\\lib\\site-packages (from -r requirements.txt (line 8)) (2.16.0)\n",
      "Requirement already satisfied: beautifulsoup4==4.12.3 in c:\\study\\msds\\ml2\\bbc_mini_project\\env\\lib\\site-packages (from -r requirements.txt (line 9)) (4.12.3)\n",
      "Requirement already satisfied: bleach==6.2.0 in c:\\study\\msds\\ml2\\bbc_mini_project\\env\\lib\\site-packages (from -r requirements.txt (line 10)) (6.2.0)\n",
      "Requirement already satisfied: certifi==2024.8.30 in c:\\study\\msds\\ml2\\bbc_mini_project\\env\\lib\\site-packages (from -r requirements.txt (line 11)) (2024.8.30)\n",
      "Requirement already satisfied: cffi==1.17.1 in c:\\study\\msds\\ml2\\bbc_mini_project\\env\\lib\\site-packages (from -r requirements.txt (line 12)) (1.17.1)\n",
      "Requirement already satisfied: charset-normalizer==3.4.0 in c:\\study\\msds\\ml2\\bbc_mini_project\\env\\lib\\site-packages (from -r requirements.txt (line 13)) (3.4.0)\n",
      "Requirement already satisfied: colorama==0.4.6 in c:\\study\\msds\\ml2\\bbc_mini_project\\env\\lib\\site-packages (from -r requirements.txt (line 14)) (0.4.6)\n",
      "Requirement already satisfied: comm==0.2.2 in c:\\study\\msds\\ml2\\bbc_mini_project\\env\\lib\\site-packages (from -r requirements.txt (line 15)) (0.2.2)\n",
      "Requirement already satisfied: contourpy==1.3.1 in c:\\study\\msds\\ml2\\bbc_mini_project\\env\\lib\\site-packages (from -r requirements.txt (line 16)) (1.3.1)\n",
      "Requirement already satisfied: cycler==0.12.1 in c:\\study\\msds\\ml2\\bbc_mini_project\\env\\lib\\site-packages (from -r requirements.txt (line 17)) (0.12.1)\n",
      "Requirement already satisfied: debugpy==1.8.8 in c:\\study\\msds\\ml2\\bbc_mini_project\\env\\lib\\site-packages (from -r requirements.txt (line 18)) (1.8.8)\n",
      "Requirement already satisfied: decorator==5.1.1 in c:\\study\\msds\\ml2\\bbc_mini_project\\env\\lib\\site-packages (from -r requirements.txt (line 19)) (5.1.1)\n",
      "Requirement already satisfied: defusedxml==0.7.1 in c:\\study\\msds\\ml2\\bbc_mini_project\\env\\lib\\site-packages (from -r requirements.txt (line 20)) (0.7.1)\n",
      "Requirement already satisfied: executing==2.1.0 in c:\\study\\msds\\ml2\\bbc_mini_project\\env\\lib\\site-packages (from -r requirements.txt (line 21)) (2.1.0)\n",
      "Requirement already satisfied: fastjsonschema==2.20.0 in c:\\study\\msds\\ml2\\bbc_mini_project\\env\\lib\\site-packages (from -r requirements.txt (line 22)) (2.20.0)\n",
      "Requirement already satisfied: fonttools==4.55.0 in c:\\study\\msds\\ml2\\bbc_mini_project\\env\\lib\\site-packages (from -r requirements.txt (line 23)) (4.55.0)\n",
      "Requirement already satisfied: fqdn==1.5.1 in c:\\study\\msds\\ml2\\bbc_mini_project\\env\\lib\\site-packages (from -r requirements.txt (line 24)) (1.5.1)\n",
      "Requirement already satisfied: gensim==4.3.3 in c:\\study\\msds\\ml2\\bbc_mini_project\\env\\lib\\site-packages (from -r requirements.txt (line 25)) (4.3.3)\n",
      "Requirement already satisfied: h11==0.14.0 in c:\\study\\msds\\ml2\\bbc_mini_project\\env\\lib\\site-packages (from -r requirements.txt (line 26)) (0.14.0)\n",
      "Requirement already satisfied: httpcore==1.0.7 in c:\\study\\msds\\ml2\\bbc_mini_project\\env\\lib\\site-packages (from -r requirements.txt (line 27)) (1.0.7)\n",
      "Requirement already satisfied: httpx==0.27.2 in c:\\study\\msds\\ml2\\bbc_mini_project\\env\\lib\\site-packages (from -r requirements.txt (line 28)) (0.27.2)\n",
      "Requirement already satisfied: idna==3.10 in c:\\study\\msds\\ml2\\bbc_mini_project\\env\\lib\\site-packages (from -r requirements.txt (line 29)) (3.10)\n",
      "Requirement already satisfied: ipykernel==6.29.5 in c:\\study\\msds\\ml2\\bbc_mini_project\\env\\lib\\site-packages (from -r requirements.txt (line 30)) (6.29.5)\n",
      "Requirement already satisfied: ipython==8.29.0 in c:\\study\\msds\\ml2\\bbc_mini_project\\env\\lib\\site-packages (from -r requirements.txt (line 31)) (8.29.0)\n",
      "Requirement already satisfied: ipywidgets==8.1.5 in c:\\study\\msds\\ml2\\bbc_mini_project\\env\\lib\\site-packages (from -r requirements.txt (line 32)) (8.1.5)\n",
      "Requirement already satisfied: isoduration==20.11.0 in c:\\study\\msds\\ml2\\bbc_mini_project\\env\\lib\\site-packages (from -r requirements.txt (line 33)) (20.11.0)\n",
      "Requirement already satisfied: jedi==0.19.2 in c:\\study\\msds\\ml2\\bbc_mini_project\\env\\lib\\site-packages (from -r requirements.txt (line 34)) (0.19.2)\n",
      "Requirement already satisfied: Jinja2==3.1.4 in c:\\study\\msds\\ml2\\bbc_mini_project\\env\\lib\\site-packages (from -r requirements.txt (line 35)) (3.1.4)\n",
      "Requirement already satisfied: joblib==1.4.2 in c:\\study\\msds\\ml2\\bbc_mini_project\\env\\lib\\site-packages (from -r requirements.txt (line 36)) (1.4.2)\n",
      "Requirement already satisfied: json5==0.9.28 in c:\\study\\msds\\ml2\\bbc_mini_project\\env\\lib\\site-packages (from -r requirements.txt (line 37)) (0.9.28)\n",
      "Requirement already satisfied: jsonpointer==3.0.0 in c:\\study\\msds\\ml2\\bbc_mini_project\\env\\lib\\site-packages (from -r requirements.txt (line 38)) (3.0.0)\n",
      "Requirement already satisfied: jsonschema==4.23.0 in c:\\study\\msds\\ml2\\bbc_mini_project\\env\\lib\\site-packages (from -r requirements.txt (line 39)) (4.23.0)\n",
      "Requirement already satisfied: jsonschema-specifications==2024.10.1 in c:\\study\\msds\\ml2\\bbc_mini_project\\env\\lib\\site-packages (from -r requirements.txt (line 40)) (2024.10.1)\n",
      "Requirement already satisfied: jupyter==1.1.1 in c:\\study\\msds\\ml2\\bbc_mini_project\\env\\lib\\site-packages (from -r requirements.txt (line 41)) (1.1.1)\n",
      "Requirement already satisfied: jupyter-console==6.6.3 in c:\\study\\msds\\ml2\\bbc_mini_project\\env\\lib\\site-packages (from -r requirements.txt (line 42)) (6.6.3)\n",
      "Requirement already satisfied: jupyter-events==0.10.0 in c:\\study\\msds\\ml2\\bbc_mini_project\\env\\lib\\site-packages (from -r requirements.txt (line 43)) (0.10.0)\n",
      "Requirement already satisfied: jupyter-lsp==2.2.5 in c:\\study\\msds\\ml2\\bbc_mini_project\\env\\lib\\site-packages (from -r requirements.txt (line 44)) (2.2.5)\n",
      "Requirement already satisfied: jupyter_client==8.6.3 in c:\\study\\msds\\ml2\\bbc_mini_project\\env\\lib\\site-packages (from -r requirements.txt (line 45)) (8.6.3)\n",
      "Requirement already satisfied: jupyter_core==5.7.2 in c:\\study\\msds\\ml2\\bbc_mini_project\\env\\lib\\site-packages (from -r requirements.txt (line 46)) (5.7.2)\n",
      "Requirement already satisfied: jupyter_server==2.14.2 in c:\\study\\msds\\ml2\\bbc_mini_project\\env\\lib\\site-packages (from -r requirements.txt (line 47)) (2.14.2)\n",
      "Requirement already satisfied: jupyter_server_terminals==0.5.3 in c:\\study\\msds\\ml2\\bbc_mini_project\\env\\lib\\site-packages (from -r requirements.txt (line 48)) (0.5.3)\n",
      "Requirement already satisfied: jupyterlab==4.2.6 in c:\\study\\msds\\ml2\\bbc_mini_project\\env\\lib\\site-packages (from -r requirements.txt (line 49)) (4.2.6)\n",
      "Requirement already satisfied: jupyterlab_pygments==0.3.0 in c:\\study\\msds\\ml2\\bbc_mini_project\\env\\lib\\site-packages (from -r requirements.txt (line 50)) (0.3.0)\n",
      "Requirement already satisfied: jupyterlab_server==2.27.3 in c:\\study\\msds\\ml2\\bbc_mini_project\\env\\lib\\site-packages (from -r requirements.txt (line 51)) (2.27.3)\n",
      "Requirement already satisfied: jupyterlab_widgets==3.0.13 in c:\\study\\msds\\ml2\\bbc_mini_project\\env\\lib\\site-packages (from -r requirements.txt (line 52)) (3.0.13)\n",
      "Requirement already satisfied: kiwisolver==1.4.7 in c:\\study\\msds\\ml2\\bbc_mini_project\\env\\lib\\site-packages (from -r requirements.txt (line 53)) (1.4.7)\n",
      "Requirement already satisfied: MarkupSafe==3.0.2 in c:\\study\\msds\\ml2\\bbc_mini_project\\env\\lib\\site-packages (from -r requirements.txt (line 54)) (3.0.2)\n",
      "Requirement already satisfied: matplotlib==3.9.2 in c:\\study\\msds\\ml2\\bbc_mini_project\\env\\lib\\site-packages (from -r requirements.txt (line 55)) (3.9.2)\n",
      "Requirement already satisfied: matplotlib-inline==0.1.7 in c:\\study\\msds\\ml2\\bbc_mini_project\\env\\lib\\site-packages (from -r requirements.txt (line 56)) (0.1.7)\n",
      "Requirement already satisfied: mistune==3.0.2 in c:\\study\\msds\\ml2\\bbc_mini_project\\env\\lib\\site-packages (from -r requirements.txt (line 57)) (3.0.2)\n",
      "Requirement already satisfied: nbclient==0.10.0 in c:\\study\\msds\\ml2\\bbc_mini_project\\env\\lib\\site-packages (from -r requirements.txt (line 58)) (0.10.0)\n",
      "Requirement already satisfied: nbconvert==7.16.4 in c:\\study\\msds\\ml2\\bbc_mini_project\\env\\lib\\site-packages (from -r requirements.txt (line 59)) (7.16.4)\n",
      "Requirement already satisfied: nbformat==5.10.4 in c:\\study\\msds\\ml2\\bbc_mini_project\\env\\lib\\site-packages (from -r requirements.txt (line 60)) (5.10.4)\n",
      "Requirement already satisfied: nest-asyncio==1.6.0 in c:\\study\\msds\\ml2\\bbc_mini_project\\env\\lib\\site-packages (from -r requirements.txt (line 61)) (1.6.0)\n",
      "Requirement already satisfied: notebook==7.2.2 in c:\\study\\msds\\ml2\\bbc_mini_project\\env\\lib\\site-packages (from -r requirements.txt (line 62)) (7.2.2)\n",
      "Requirement already satisfied: notebook_shim==0.2.4 in c:\\study\\msds\\ml2\\bbc_mini_project\\env\\lib\\site-packages (from -r requirements.txt (line 63)) (0.2.4)\n",
      "Requirement already satisfied: numpy==1.26.4 in c:\\study\\msds\\ml2\\bbc_mini_project\\env\\lib\\site-packages (from -r requirements.txt (line 64)) (1.26.4)\n",
      "Requirement already satisfied: overrides==7.7.0 in c:\\study\\msds\\ml2\\bbc_mini_project\\env\\lib\\site-packages (from -r requirements.txt (line 65)) (7.7.0)\n",
      "Requirement already satisfied: packaging==24.2 in c:\\study\\msds\\ml2\\bbc_mini_project\\env\\lib\\site-packages (from -r requirements.txt (line 66)) (24.2)\n",
      "Requirement already satisfied: pandas==2.2.3 in c:\\study\\msds\\ml2\\bbc_mini_project\\env\\lib\\site-packages (from -r requirements.txt (line 67)) (2.2.3)\n",
      "Requirement already satisfied: pandocfilters==1.5.1 in c:\\study\\msds\\ml2\\bbc_mini_project\\env\\lib\\site-packages (from -r requirements.txt (line 68)) (1.5.1)\n",
      "Requirement already satisfied: parso==0.8.4 in c:\\study\\msds\\ml2\\bbc_mini_project\\env\\lib\\site-packages (from -r requirements.txt (line 69)) (0.8.4)\n",
      "Requirement already satisfied: pillow==11.0.0 in c:\\study\\msds\\ml2\\bbc_mini_project\\env\\lib\\site-packages (from -r requirements.txt (line 70)) (11.0.0)\n",
      "Requirement already satisfied: platformdirs==4.3.6 in c:\\study\\msds\\ml2\\bbc_mini_project\\env\\lib\\site-packages (from -r requirements.txt (line 71)) (4.3.6)\n",
      "Requirement already satisfied: prometheus_client==0.21.0 in c:\\study\\msds\\ml2\\bbc_mini_project\\env\\lib\\site-packages (from -r requirements.txt (line 72)) (0.21.0)\n",
      "Requirement already satisfied: prompt_toolkit==3.0.48 in c:\\study\\msds\\ml2\\bbc_mini_project\\env\\lib\\site-packages (from -r requirements.txt (line 73)) (3.0.48)\n",
      "Requirement already satisfied: psutil==6.1.0 in c:\\study\\msds\\ml2\\bbc_mini_project\\env\\lib\\site-packages (from -r requirements.txt (line 74)) (6.1.0)\n",
      "Requirement already satisfied: pure_eval==0.2.3 in c:\\study\\msds\\ml2\\bbc_mini_project\\env\\lib\\site-packages (from -r requirements.txt (line 75)) (0.2.3)\n",
      "Requirement already satisfied: pycparser==2.22 in c:\\study\\msds\\ml2\\bbc_mini_project\\env\\lib\\site-packages (from -r requirements.txt (line 76)) (2.22)\n",
      "Requirement already satisfied: Pygments==2.18.0 in c:\\study\\msds\\ml2\\bbc_mini_project\\env\\lib\\site-packages (from -r requirements.txt (line 77)) (2.18.0)\n",
      "Requirement already satisfied: pyparsing==3.2.0 in c:\\study\\msds\\ml2\\bbc_mini_project\\env\\lib\\site-packages (from -r requirements.txt (line 78)) (3.2.0)\n",
      "Requirement already satisfied: python-dateutil==2.9.0.post0 in c:\\study\\msds\\ml2\\bbc_mini_project\\env\\lib\\site-packages (from -r requirements.txt (line 79)) (2.9.0.post0)\n",
      "Requirement already satisfied: python-json-logger==2.0.7 in c:\\study\\msds\\ml2\\bbc_mini_project\\env\\lib\\site-packages (from -r requirements.txt (line 80)) (2.0.7)\n",
      "Requirement already satisfied: pytz==2024.2 in c:\\study\\msds\\ml2\\bbc_mini_project\\env\\lib\\site-packages (from -r requirements.txt (line 81)) (2024.2)\n",
      "Requirement already satisfied: pywin32==308 in c:\\study\\msds\\ml2\\bbc_mini_project\\env\\lib\\site-packages (from -r requirements.txt (line 82)) (308)\n",
      "Requirement already satisfied: pywinpty==2.0.14 in c:\\study\\msds\\ml2\\bbc_mini_project\\env\\lib\\site-packages (from -r requirements.txt (line 83)) (2.0.14)\n",
      "Requirement already satisfied: PyYAML==6.0.2 in c:\\study\\msds\\ml2\\bbc_mini_project\\env\\lib\\site-packages (from -r requirements.txt (line 84)) (6.0.2)\n",
      "Requirement already satisfied: pyzmq==26.2.0 in c:\\study\\msds\\ml2\\bbc_mini_project\\env\\lib\\site-packages (from -r requirements.txt (line 85)) (26.2.0)\n",
      "Requirement already satisfied: referencing==0.35.1 in c:\\study\\msds\\ml2\\bbc_mini_project\\env\\lib\\site-packages (from -r requirements.txt (line 86)) (0.35.1)\n",
      "Requirement already satisfied: requests==2.32.3 in c:\\study\\msds\\ml2\\bbc_mini_project\\env\\lib\\site-packages (from -r requirements.txt (line 87)) (2.32.3)\n",
      "Requirement already satisfied: rfc3339-validator==0.1.4 in c:\\study\\msds\\ml2\\bbc_mini_project\\env\\lib\\site-packages (from -r requirements.txt (line 88)) (0.1.4)\n",
      "Requirement already satisfied: rfc3986-validator==0.1.1 in c:\\study\\msds\\ml2\\bbc_mini_project\\env\\lib\\site-packages (from -r requirements.txt (line 89)) (0.1.1)\n",
      "Requirement already satisfied: rpds-py==0.21.0 in c:\\study\\msds\\ml2\\bbc_mini_project\\env\\lib\\site-packages (from -r requirements.txt (line 90)) (0.21.0)\n",
      "Requirement already satisfied: scikit-learn==1.5.2 in c:\\study\\msds\\ml2\\bbc_mini_project\\env\\lib\\site-packages (from -r requirements.txt (line 91)) (1.5.2)\n",
      "Requirement already satisfied: scipy==1.13.1 in c:\\study\\msds\\ml2\\bbc_mini_project\\env\\lib\\site-packages (from -r requirements.txt (line 92)) (1.13.1)\n",
      "Requirement already satisfied: Send2Trash==1.8.3 in c:\\study\\msds\\ml2\\bbc_mini_project\\env\\lib\\site-packages (from -r requirements.txt (line 93)) (1.8.3)\n",
      "Requirement already satisfied: six==1.16.0 in c:\\study\\msds\\ml2\\bbc_mini_project\\env\\lib\\site-packages (from -r requirements.txt (line 94)) (1.16.0)\n",
      "Requirement already satisfied: smart-open==7.0.5 in c:\\study\\msds\\ml2\\bbc_mini_project\\env\\lib\\site-packages (from -r requirements.txt (line 95)) (7.0.5)\n",
      "Requirement already satisfied: sniffio==1.3.1 in c:\\study\\msds\\ml2\\bbc_mini_project\\env\\lib\\site-packages (from -r requirements.txt (line 96)) (1.3.1)\n",
      "Requirement already satisfied: soupsieve==2.6 in c:\\study\\msds\\ml2\\bbc_mini_project\\env\\lib\\site-packages (from -r requirements.txt (line 97)) (2.6)\n",
      "Requirement already satisfied: stack-data==0.6.3 in c:\\study\\msds\\ml2\\bbc_mini_project\\env\\lib\\site-packages (from -r requirements.txt (line 98)) (0.6.3)\n",
      "Requirement already satisfied: terminado==0.18.1 in c:\\study\\msds\\ml2\\bbc_mini_project\\env\\lib\\site-packages (from -r requirements.txt (line 99)) (0.18.1)\n",
      "Requirement already satisfied: threadpoolctl==3.5.0 in c:\\study\\msds\\ml2\\bbc_mini_project\\env\\lib\\site-packages (from -r requirements.txt (line 100)) (3.5.0)\n",
      "Requirement already satisfied: tinycss2==1.4.0 in c:\\study\\msds\\ml2\\bbc_mini_project\\env\\lib\\site-packages (from -r requirements.txt (line 101)) (1.4.0)\n",
      "Requirement already satisfied: tornado==6.4.1 in c:\\study\\msds\\ml2\\bbc_mini_project\\env\\lib\\site-packages (from -r requirements.txt (line 102)) (6.4.1)\n",
      "Requirement already satisfied: tqdm==4.67.0 in c:\\study\\msds\\ml2\\bbc_mini_project\\env\\lib\\site-packages (from -r requirements.txt (line 103)) (4.67.0)\n",
      "Requirement already satisfied: traitlets==5.14.3 in c:\\study\\msds\\ml2\\bbc_mini_project\\env\\lib\\site-packages (from -r requirements.txt (line 104)) (5.14.3)\n",
      "Requirement already satisfied: types-python-dateutil==2.9.0.20241003 in c:\\study\\msds\\ml2\\bbc_mini_project\\env\\lib\\site-packages (from -r requirements.txt (line 105)) (2.9.0.20241003)\n",
      "Requirement already satisfied: typing_extensions==4.12.2 in c:\\study\\msds\\ml2\\bbc_mini_project\\env\\lib\\site-packages (from -r requirements.txt (line 106)) (4.12.2)\n",
      "Requirement already satisfied: tzdata==2024.2 in c:\\study\\msds\\ml2\\bbc_mini_project\\env\\lib\\site-packages (from -r requirements.txt (line 107)) (2024.2)\n",
      "Requirement already satisfied: uri-template==1.3.0 in c:\\study\\msds\\ml2\\bbc_mini_project\\env\\lib\\site-packages (from -r requirements.txt (line 108)) (1.3.0)\n",
      "Requirement already satisfied: urllib3==2.2.3 in c:\\study\\msds\\ml2\\bbc_mini_project\\env\\lib\\site-packages (from -r requirements.txt (line 109)) (2.2.3)\n",
      "Requirement already satisfied: wcwidth==0.2.13 in c:\\study\\msds\\ml2\\bbc_mini_project\\env\\lib\\site-packages (from -r requirements.txt (line 110)) (0.2.13)\n",
      "Requirement already satisfied: webcolors==24.11.1 in c:\\study\\msds\\ml2\\bbc_mini_project\\env\\lib\\site-packages (from -r requirements.txt (line 111)) (24.11.1)\n",
      "Requirement already satisfied: webencodings==0.5.1 in c:\\study\\msds\\ml2\\bbc_mini_project\\env\\lib\\site-packages (from -r requirements.txt (line 112)) (0.5.1)\n",
      "Requirement already satisfied: websocket-client==1.8.0 in c:\\study\\msds\\ml2\\bbc_mini_project\\env\\lib\\site-packages (from -r requirements.txt (line 113)) (1.8.0)\n",
      "Requirement already satisfied: widgetsnbextension==4.0.13 in c:\\study\\msds\\ml2\\bbc_mini_project\\env\\lib\\site-packages (from -r requirements.txt (line 114)) (4.0.13)\n",
      "Requirement already satisfied: wrapt==1.16.0 in c:\\study\\msds\\ml2\\bbc_mini_project\\env\\lib\\site-packages (from -r requirements.txt (line 115)) (1.16.0)\n",
      "Requirement already satisfied: setuptools>=40.1.0 in c:\\study\\msds\\ml2\\bbc_mini_project\\env\\lib\\site-packages (from jupyterlab==4.2.6->-r requirements.txt (line 49)) (65.5.0)\n"
     ]
    },
    {
     "name": "stderr",
     "output_type": "stream",
     "text": [
      "\n",
      "[notice] A new release of pip available: 22.3.1 -> 24.3.1\n",
      "[notice] To update, run: python.exe -m pip install --upgrade pip\n"
     ]
    }
   ],
   "source": [
    "!pip install -r requirements.txt"
   ]
  },
  {
   "cell_type": "code",
   "execution_count": 101,
   "metadata": {
    "_cell_guid": "b1076dfc-b9ad-4769-8c92-a6c4dae69d19",
    "_uuid": "8f2839f25d086af736a60e9eeb907d3b93b6e0e5"
   },
   "outputs": [],
   "source": [
    "import os\n",
    "\n",
    "import numpy as np\n",
    "import pandas as pd \n",
    "\n",
    "import matplotlib.pyplot as plt\n",
    "import gensim.downloader as api\n",
    "\n",
    "from itertools import permutations\n",
    "\n",
    "from gensim.utils import tokenize\n",
    "from sklearn.feature_extraction.text import TfidfTransformer, CountVectorizer\n",
    "from sklearn.decomposition import NMF\n",
    "from sklearn.metrics import accuracy_score\n",
    "from sklearn.neighbors import KNeighborsClassifier\n",
    "from sklearn.model_selection import train_test_split\n",
    "\n",
    "from gensim.models import Word2Vec\n",
    "from gensim.parsing.preprocessing import remove_stopwords\n",
    "\n",
    "from tqdm import tqdm\n",
    "\n",
    "os.environ[\"GENSIM_DATA_DIR\"] = '.\\\\gensim'"
   ]
  },
  {
   "cell_type": "markdown",
   "metadata": {},
   "source": [
    "# Loading Data"
   ]
  },
  {
   "cell_type": "code",
   "execution_count": 102,
   "metadata": {},
   "outputs": [],
   "source": [
    "df_train = pd.read_csv('./data/learn-ai-bbc/BBC News Train.csv')\n",
    "df_test = pd.read_csv('./data/learn-ai-bbc/BBC News Test.csv')"
   ]
  },
  {
   "cell_type": "code",
   "execution_count": 107,
   "metadata": {},
   "outputs": [],
   "source": [
    "df_train, df_eval = train_test_split(df_train, test_size=0.2)"
   ]
  },
  {
   "cell_type": "code",
   "execution_count": 108,
   "metadata": {},
   "outputs": [
    {
     "name": "stdout",
     "output_type": "stream",
     "text": [
      "<class 'pandas.core.frame.DataFrame'>\n",
      "Index: 893 entries, 737 to 1449\n",
      "Data columns (total 3 columns):\n",
      " #   Column     Non-Null Count  Dtype \n",
      "---  ------     --------------  ----- \n",
      " 0   ArticleId  893 non-null    int64 \n",
      " 1   Text       893 non-null    object\n",
      " 2   Category   893 non-null    object\n",
      "dtypes: int64(1), object(2)\n",
      "memory usage: 27.9+ KB\n"
     ]
    }
   ],
   "source": [
    "df_train.info()"
   ]
  },
  {
   "cell_type": "code",
   "execution_count": 109,
   "metadata": {},
   "outputs": [
    {
     "name": "stdout",
     "output_type": "stream",
     "text": [
      "<class 'pandas.core.frame.DataFrame'>\n",
      "RangeIndex: 735 entries, 0 to 734\n",
      "Data columns (total 2 columns):\n",
      " #   Column     Non-Null Count  Dtype \n",
      "---  ------     --------------  ----- \n",
      " 0   ArticleId  735 non-null    int64 \n",
      " 1   Text       735 non-null    object\n",
      "dtypes: int64(1), object(1)\n",
      "memory usage: 11.6+ KB\n"
     ]
    }
   ],
   "source": [
    "df_test.info()"
   ]
  },
  {
   "cell_type": "code",
   "execution_count": 110,
   "metadata": {},
   "outputs": [
    {
     "data": {
      "text/html": [
       "<div>\n",
       "<style scoped>\n",
       "    .dataframe tbody tr th:only-of-type {\n",
       "        vertical-align: middle;\n",
       "    }\n",
       "\n",
       "    .dataframe tbody tr th {\n",
       "        vertical-align: top;\n",
       "    }\n",
       "\n",
       "    .dataframe thead th {\n",
       "        text-align: right;\n",
       "    }\n",
       "</style>\n",
       "<table border=\"1\" class=\"dataframe\">\n",
       "  <thead>\n",
       "    <tr style=\"text-align: right;\">\n",
       "      <th></th>\n",
       "      <th>ArticleId</th>\n",
       "      <th>Text</th>\n",
       "      <th>Category</th>\n",
       "    </tr>\n",
       "  </thead>\n",
       "  <tbody>\n",
       "    <tr>\n",
       "      <th>737</th>\n",
       "      <td>1860</td>\n",
       "      <td>camera phones are  must-haves  four times more...</td>\n",
       "      <td>tech</td>\n",
       "    </tr>\n",
       "    <tr>\n",
       "      <th>626</th>\n",
       "      <td>832</td>\n",
       "      <td>muslims discuss election concerns issues that ...</td>\n",
       "      <td>politics</td>\n",
       "    </tr>\n",
       "    <tr>\n",
       "      <th>888</th>\n",
       "      <td>1215</td>\n",
       "      <td>toxic web links help virus spread virus writer...</td>\n",
       "      <td>tech</td>\n",
       "    </tr>\n",
       "    <tr>\n",
       "      <th>812</th>\n",
       "      <td>858</td>\n",
       "      <td>sella wants michalak recall former france cent...</td>\n",
       "      <td>sport</td>\n",
       "    </tr>\n",
       "    <tr>\n",
       "      <th>266</th>\n",
       "      <td>1598</td>\n",
       "      <td>survey confirms property slowdown government f...</td>\n",
       "      <td>business</td>\n",
       "    </tr>\n",
       "  </tbody>\n",
       "</table>\n",
       "</div>"
      ],
      "text/plain": [
       "     ArticleId                                               Text  Category\n",
       "737       1860  camera phones are  must-haves  four times more...      tech\n",
       "626        832  muslims discuss election concerns issues that ...  politics\n",
       "888       1215  toxic web links help virus spread virus writer...      tech\n",
       "812        858  sella wants michalak recall former france cent...     sport\n",
       "266       1598  survey confirms property slowdown government f...  business"
      ]
     },
     "execution_count": 110,
     "metadata": {},
     "output_type": "execute_result"
    }
   ],
   "source": [
    "df_train.head()"
   ]
  },
  {
   "cell_type": "code",
   "execution_count": 111,
   "metadata": {},
   "outputs": [
    {
     "data": {
      "text/html": [
       "<div>\n",
       "<style scoped>\n",
       "    .dataframe tbody tr th:only-of-type {\n",
       "        vertical-align: middle;\n",
       "    }\n",
       "\n",
       "    .dataframe tbody tr th {\n",
       "        vertical-align: top;\n",
       "    }\n",
       "\n",
       "    .dataframe thead th {\n",
       "        text-align: right;\n",
       "    }\n",
       "</style>\n",
       "<table border=\"1\" class=\"dataframe\">\n",
       "  <thead>\n",
       "    <tr style=\"text-align: right;\">\n",
       "      <th></th>\n",
       "      <th>ArticleId</th>\n",
       "      <th>Text</th>\n",
       "    </tr>\n",
       "  </thead>\n",
       "  <tbody>\n",
       "    <tr>\n",
       "      <th>0</th>\n",
       "      <td>1018</td>\n",
       "      <td>qpr keeper day heads for preston queens park r...</td>\n",
       "    </tr>\n",
       "    <tr>\n",
       "      <th>1</th>\n",
       "      <td>1319</td>\n",
       "      <td>software watching while you work software that...</td>\n",
       "    </tr>\n",
       "    <tr>\n",
       "      <th>2</th>\n",
       "      <td>1138</td>\n",
       "      <td>d arcy injury adds to ireland woe gordon d arc...</td>\n",
       "    </tr>\n",
       "    <tr>\n",
       "      <th>3</th>\n",
       "      <td>459</td>\n",
       "      <td>india s reliance family feud heats up the ongo...</td>\n",
       "    </tr>\n",
       "    <tr>\n",
       "      <th>4</th>\n",
       "      <td>1020</td>\n",
       "      <td>boro suffer morrison injury blow middlesbrough...</td>\n",
       "    </tr>\n",
       "  </tbody>\n",
       "</table>\n",
       "</div>"
      ],
      "text/plain": [
       "   ArticleId                                               Text\n",
       "0       1018  qpr keeper day heads for preston queens park r...\n",
       "1       1319  software watching while you work software that...\n",
       "2       1138  d arcy injury adds to ireland woe gordon d arc...\n",
       "3        459  india s reliance family feud heats up the ongo...\n",
       "4       1020  boro suffer morrison injury blow middlesbrough..."
      ]
     },
     "execution_count": 111,
     "metadata": {},
     "output_type": "execute_result"
    }
   ],
   "source": [
    "df_test.head()"
   ]
  },
  {
   "cell_type": "markdown",
   "metadata": {},
   "source": [
    "# PreProcessing"
   ]
  },
  {
   "cell_type": "markdown",
   "metadata": {},
   "source": [
    "To begin with , let's create a mapping of the different categories to indices"
   ]
  },
  {
   "cell_type": "code",
   "execution_count": 112,
   "metadata": {},
   "outputs": [],
   "source": [
    "categories = df_train['Category'].unique()\n",
    "categories = dict(zip(range(len(categories)), categories))\n",
    "reverse_categories = {v:k for k,v in categories.items()}"
   ]
  },
  {
   "cell_type": "markdown",
   "metadata": {},
   "source": [
    "Filtering out stop words since they are not as relavant for classification"
   ]
  },
  {
   "cell_type": "code",
   "execution_count": 124,
   "metadata": {},
   "outputs": [],
   "source": [
    "df_train['text_clean'] = df_train['Text'].apply(lambda s: remove_stopwords(s))\n",
    "df_test['text_clean'] = df_test['Text'].apply(lambda s: remove_stopwords(s))\n",
    "df_eval['text_clean'] = df_eval['Text'].apply(lambda s: remove_stopwords(s))"
   ]
  },
  {
   "cell_type": "markdown",
   "metadata": {},
   "source": [
    "We'll use bag of words count followed by TF-IDF"
   ]
  },
  {
   "cell_type": "code",
   "execution_count": 134,
   "metadata": {},
   "outputs": [],
   "source": [
    "counter = CountVectorizer()\n",
    "tfidf = TfidfTransformer()\n",
    "\n",
    "bow_vec = counter.fit_transform(df_train['text_clean'])\n",
    "tfidf_vec = tfidf.fit_transform(bow_vec)\n",
    "\n",
    "bow_vec_eval = counter.transform(df_eval['text_clean'])\n",
    "tfidf_vec_eval = tfidf.transform(bow_vec_eval)"
   ]
  },
  {
   "cell_type": "code",
   "execution_count": 115,
   "metadata": {},
   "outputs": [],
   "source": [
    "vocab = counter.vocabulary_\n",
    "reverse_vocab = {v:k for (k,v) in vocab.items()}"
   ]
  },
  {
   "cell_type": "code",
   "execution_count": 116,
   "metadata": {},
   "outputs": [],
   "source": [
    "# Sanity\n",
    "#print(list(map(lambda x: reverse_vocab[x], np.where(bow_vec[0].todense() > 0)[1])))\n",
    "#print(df_train['text_clean'].iloc[0])"
   ]
  },
  {
   "cell_type": "markdown",
   "metadata": {},
   "source": [
    "# EDA"
   ]
  },
  {
   "cell_type": "markdown",
   "metadata": {},
   "source": [
    "Summing up the rows of our word count matrix to get the total word count in the dataset"
   ]
  },
  {
   "cell_type": "code",
   "execution_count": 117,
   "metadata": {},
   "outputs": [],
   "source": [
    "word_counts_total = bow_vec.sum(axis=0)\n",
    "word_frequencies = [(reverse_vocab[i],word_counts_total[0,i]) for i in range(len(vocab))]"
   ]
  },
  {
   "cell_type": "markdown",
   "metadata": {},
   "source": [
    "Let's see which words are the most popular"
   ]
  },
  {
   "cell_type": "code",
   "execution_count": 118,
   "metadata": {},
   "outputs": [
    {
     "data": {
      "text/html": [
       "<div>\n",
       "<style scoped>\n",
       "    .dataframe tbody tr th:only-of-type {\n",
       "        vertical-align: middle;\n",
       "    }\n",
       "\n",
       "    .dataframe tbody tr th {\n",
       "        vertical-align: top;\n",
       "    }\n",
       "\n",
       "    .dataframe thead th {\n",
       "        text-align: right;\n",
       "    }\n",
       "</style>\n",
       "<table border=\"1\" class=\"dataframe\">\n",
       "  <thead>\n",
       "    <tr style=\"text-align: right;\">\n",
       "      <th></th>\n",
       "      <th>word</th>\n",
       "      <th>frequency</th>\n",
       "    </tr>\n",
       "  </thead>\n",
       "  <tbody>\n",
       "    <tr>\n",
       "      <th>0</th>\n",
       "      <td>said</td>\n",
       "      <td>2923</td>\n",
       "    </tr>\n",
       "    <tr>\n",
       "      <th>1</th>\n",
       "      <td>mr</td>\n",
       "      <td>1151</td>\n",
       "    </tr>\n",
       "    <tr>\n",
       "      <th>2</th>\n",
       "      <td>year</td>\n",
       "      <td>911</td>\n",
       "    </tr>\n",
       "    <tr>\n",
       "      <th>3</th>\n",
       "      <td>new</td>\n",
       "      <td>821</td>\n",
       "    </tr>\n",
       "    <tr>\n",
       "      <th>4</th>\n",
       "      <td>people</td>\n",
       "      <td>746</td>\n",
       "    </tr>\n",
       "    <tr>\n",
       "      <th>...</th>\n",
       "      <td>...</td>\n",
       "      <td>...</td>\n",
       "    </tr>\n",
       "    <tr>\n",
       "      <th>19663</th>\n",
       "      <td>zones</td>\n",
       "      <td>1</td>\n",
       "    </tr>\n",
       "    <tr>\n",
       "      <th>19664</th>\n",
       "      <td>zooms</td>\n",
       "      <td>1</td>\n",
       "    </tr>\n",
       "    <tr>\n",
       "      <th>19665</th>\n",
       "      <td>zooropa</td>\n",
       "      <td>1</td>\n",
       "    </tr>\n",
       "    <tr>\n",
       "      <th>19666</th>\n",
       "      <td>zuluaga</td>\n",
       "      <td>1</td>\n",
       "    </tr>\n",
       "    <tr>\n",
       "      <th>19667</th>\n",
       "      <td>zutons</td>\n",
       "      <td>1</td>\n",
       "    </tr>\n",
       "  </tbody>\n",
       "</table>\n",
       "<p>19668 rows × 2 columns</p>\n",
       "</div>"
      ],
      "text/plain": [
       "          word  frequency\n",
       "0         said       2923\n",
       "1           mr       1151\n",
       "2         year        911\n",
       "3          new        821\n",
       "4       people        746\n",
       "...        ...        ...\n",
       "19663    zones          1\n",
       "19664    zooms          1\n",
       "19665  zooropa          1\n",
       "19666  zuluaga          1\n",
       "19667   zutons          1\n",
       "\n",
       "[19668 rows x 2 columns]"
      ]
     },
     "execution_count": 118,
     "metadata": {},
     "output_type": "execute_result"
    }
   ],
   "source": [
    "top_words = pd.DataFrame(sorted(word_frequencies, key=lambda x:x[1], reverse=True), columns=['word','frequency'])\n",
    "top_words"
   ]
  },
  {
   "cell_type": "markdown",
   "metadata": {},
   "source": [
    "And how is the word count distributed? We have to log-transform for the visualization to make sense"
   ]
  },
  {
   "cell_type": "code",
   "execution_count": 119,
   "metadata": {},
   "outputs": [
    {
     "data": {
      "image/png": "[encoded data removed]",
      "text/plain": [
       "<Figure size 640x480 with 1 Axes>"
      ]
     },
     "metadata": {},
     "output_type": "display_data"
    }
   ],
   "source": [
    "\n",
    "top_words['frequency'].apply(np.log).hist()\n",
    "plt.title(\"Log(word_frequency) distribution\")\n",
    "plt.show()"
   ]
  },
  {
   "cell_type": "markdown",
   "metadata": {},
   "source": [
    "# Supervised Approach"
   ]
  },
  {
   "cell_type": "markdown",
   "metadata": {},
   "source": [
    "In order to represent our documents as vectors, we will utilize word2vec and get the mean vector for each document"
   ]
  },
  {
   "cell_type": "code",
   "execution_count": 21,
   "metadata": {},
   "outputs": [
    {
     "name": "stdout",
     "output_type": "stream",
     "text": [
      "[==================--------------------------------] 38.0% 631.2/1662.8MB downloaded"
     ]
    },
    {
     "name": "stderr",
     "output_type": "stream",
     "text": [
      "IOPub message rate exceeded.\n",
      "The Jupyter server will temporarily stop sending output\n",
      "to the client in order to avoid crashing it.\n",
      "To change this limit, set the config variable\n",
      "`--ServerApp.iopub_msg_rate_limit`.\n",
      "\n",
      "Current values:\n",
      "ServerApp.iopub_msg_rate_limit=1000.0 (msgs/sec)\n",
      "ServerApp.rate_limit_window=3.0 (secs)\n",
      "\n"
     ]
    },
    {
     "name": "stdout",
     "output_type": "stream",
     "text": [
      "[====================------------------------------] 41.0% 681.6/1662.8MB downloaded"
     ]
    },
    {
     "name": "stderr",
     "output_type": "stream",
     "text": [
      "IOPub message rate exceeded.\n",
      "The Jupyter server will temporarily stop sending output\n",
      "to the client in order to avoid crashing it.\n",
      "To change this limit, set the config variable\n",
      "`--ServerApp.iopub_msg_rate_limit`.\n",
      "\n",
      "Current values:\n",
      "ServerApp.iopub_msg_rate_limit=1000.0 (msgs/sec)\n",
      "ServerApp.rate_limit_window=3.0 (secs)\n",
      "\n"
     ]
    },
    {
     "name": "stdout",
     "output_type": "stream",
     "text": [
      "[=============================---------------------] 58.7% 975.6/1662.8MB downloaded"
     ]
    },
    {
     "name": "stderr",
     "output_type": "stream",
     "text": [
      "IOPub message rate exceeded.\n",
      "The Jupyter server will temporarily stop sending output\n",
      "to the client in order to avoid crashing it.\n",
      "To change this limit, set the config variable\n",
      "`--ServerApp.iopub_msg_rate_limit`.\n",
      "\n",
      "Current values:\n",
      "ServerApp.iopub_msg_rate_limit=1000.0 (msgs/sec)\n",
      "ServerApp.rate_limit_window=3.0 (secs)\n",
      "\n"
     ]
    },
    {
     "name": "stdout",
     "output_type": "stream",
     "text": [
      "[===============================-------------------] 62.1% 1033.1/1662.8MB downloaded"
     ]
    },
    {
     "name": "stderr",
     "output_type": "stream",
     "text": [
      "IOPub message rate exceeded.\n",
      "The Jupyter server will temporarily stop sending output\n",
      "to the client in order to avoid crashing it.\n",
      "To change this limit, set the config variable\n",
      "`--ServerApp.iopub_msg_rate_limit`.\n",
      "\n",
      "Current values:\n",
      "ServerApp.iopub_msg_rate_limit=1000.0 (msgs/sec)\n",
      "ServerApp.rate_limit_window=3.0 (secs)\n",
      "\n"
     ]
    },
    {
     "name": "stdout",
     "output_type": "stream",
     "text": [
      "[================================================--] 97.5% 1621.7/1662.8MB downloaded"
     ]
    },
    {
     "name": "stderr",
     "output_type": "stream",
     "text": [
      "IOPub message rate exceeded.\n",
      "The Jupyter server will temporarily stop sending output\n",
      "to the client in order to avoid crashing it.\n",
      "To change this limit, set the config variable\n",
      "`--ServerApp.iopub_msg_rate_limit`.\n",
      "\n",
      "Current values:\n",
      "ServerApp.iopub_msg_rate_limit=1000.0 (msgs/sec)\n",
      "ServerApp.rate_limit_window=3.0 (secs)\n",
      "\n"
     ]
    }
   ],
   "source": [
    "wv = api.load('word2vec-google-news-300')"
   ]
  },
  {
   "cell_type": "code",
   "execution_count": 120,
   "metadata": {},
   "outputs": [],
   "source": [
    "def doc_embedding(text):\n",
    "\ttokens = tokenize(text)\n",
    "\treturn np.mean([wv[t] for t in tokens if t in wv], axis=0)\n",
    "\n",
    "# test_doc = df_train['text_clean'].iloc[0]\n",
    "# print(test_doc)\n",
    "# doc_embedding(test_doc)"
   ]
  },
  {
   "cell_type": "markdown",
   "metadata": {},
   "source": [
    "We create our utility matrix both for training and testing datasets, retrieving all documents embeddings"
   ]
  },
  {
   "cell_type": "code",
   "execution_count": 125,
   "metadata": {},
   "outputs": [
    {
     "name": "stderr",
     "output_type": "stream",
     "text": [
      "893it [00:01, 533.95it/s]\n",
      "224it [00:00, 586.24it/s]\n",
      "735it [00:01, 526.04it/s]\n"
     ]
    }
   ],
   "source": [
    "util_matrix_train = np.zeros((len(df_train), wv.vector_size))\n",
    "util_matrix_test = np.zeros((len(df_test), wv.vector_size))\n",
    "util_matrix_eval = np.zeros((len(df_eval), wv.vector_size))\n",
    "\n",
    "for i,doc in tqdm(enumerate(df_train['text_clean'])):\n",
    "    util_matrix_train[i] = doc_embedding(doc)\n",
    "\n",
    "\n",
    "util_matrix_eval = np.zeros((len(df_eval), wv.vector_size))\n",
    "for i,doc in tqdm(enumerate(df_eval['text_clean'])):\n",
    "    util_matrix_eval[i] = doc_embedding(doc)\n",
    "    \n",
    "util_matrix_test = np.zeros((len(df_test), wv.vector_size))\n",
    "for i,doc in tqdm(enumerate(df_test['text_clean'])):\n",
    "    util_matrix_test[i] = doc_embedding(doc)"
   ]
  },
  {
   "cell_type": "code",
   "execution_count": 127,
   "metadata": {},
   "outputs": [
    {
     "name": "stdout",
     "output_type": "stream",
     "text": [
      "(893, 300)\n",
      "(224, 300)\n",
      "(735, 300)\n"
     ]
    }
   ],
   "source": [
    "print(util_matrix_train.shape)\n",
    "print(util_matrix_eval.shape)\n",
    "print(util_matrix_test.shape)"
   ]
  },
  {
   "cell_type": "markdown",
   "metadata": {},
   "source": [
    "Now we can train a model using supervised learning approaches, let's try KNN"
   ]
  },
  {
   "cell_type": "markdown",
   "metadata": {},
   "source": [
    "Since we're using word2vec it is better to consider cosine distance metric"
   ]
  },
  {
   "cell_type": "code",
   "execution_count": 128,
   "metadata": {},
   "outputs": [],
   "source": [
    "model = KNeighborsClassifier(n_neighbors=10, metric='cosine')"
   ]
  },
  {
   "cell_type": "code",
   "execution_count": 129,
   "metadata": {},
   "outputs": [
    {
     "data": {
      "text/html": [
       "<style>#sk-container-id-7 {\n",
       "  /* Definition of color scheme common for light and dark mode */\n",
       "  --sklearn-color-text: black;\n",
       "  --sklearn-color-line: gray;\n",
       "  /* Definition of color scheme for unfitted estimators */\n",
       "  --sklearn-color-unfitted-level-0: #fff5e6;\n",
       "  --sklearn-color-unfitted-level-1: #f6e4d2;\n",
       "  --sklearn-color-unfitted-level-2: #ffe0b3;\n",
       "  --sklearn-color-unfitted-level-3: chocolate;\n",
       "  /* Definition of color scheme for fitted estimators */\n",
       "  --sklearn-color-fitted-level-0: #f0f8ff;\n",
       "  --sklearn-color-fitted-level-1: #d4ebff;\n",
       "  --sklearn-color-fitted-level-2: #b3dbfd;\n",
       "  --sklearn-color-fitted-level-3: cornflowerblue;\n",
       "\n",
       "  /* Specific color for light theme */\n",
       "  --sklearn-color-text-on-default-background: var(--sg-text-color, var(--theme-code-foreground, var(--jp-content-font-color1, black)));\n",
       "  --sklearn-color-background: var(--sg-background-color, var(--theme-background, var(--jp-layout-color0, white)));\n",
       "  --sklearn-color-border-box: var(--sg-text-color, var(--theme-code-foreground, var(--jp-content-font-color1, black)));\n",
       "  --sklearn-color-icon: #696969;\n",
       "\n",
       "  @media (prefers-color-scheme: dark) {\n",
       "    /* Redefinition of color scheme for dark theme */\n",
       "    --sklearn-color-text-on-default-background: var(--sg-text-color, var(--theme-code-foreground, var(--jp-content-font-color1, white)));\n",
       "    --sklearn-color-background: var(--sg-background-color, var(--theme-background, var(--jp-layout-color0, #111)));\n",
       "    --sklearn-color-border-box: var(--sg-text-color, var(--theme-code-foreground, var(--jp-content-font-color1, white)));\n",
       "    --sklearn-color-icon: #878787;\n",
       "  }\n",
       "}\n",
       "\n",
       "#sk-container-id-7 {\n",
       "  color: var(--sklearn-color-text);\n",
       "}\n",
       "\n",
       "#sk-container-id-7 pre {\n",
       "  padding: 0;\n",
       "}\n",
       "\n",
       "#sk-container-id-7 input.sk-hidden--visually {\n",
       "  border: 0;\n",
       "  clip: rect(1px 1px 1px 1px);\n",
       "  clip: rect(1px, 1px, 1px, 1px);\n",
       "  height: 1px;\n",
       "  margin: -1px;\n",
       "  overflow: hidden;\n",
       "  padding: 0;\n",
       "  position: absolute;\n",
       "  width: 1px;\n",
       "}\n",
       "\n",
       "#sk-container-id-7 div.sk-dashed-wrapped {\n",
       "  border: 1px dashed var(--sklearn-color-line);\n",
       "  margin: 0 0.4em 0.5em 0.4em;\n",
       "  box-sizing: border-box;\n",
       "  padding-bottom: 0.4em;\n",
       "  background-color: var(--sklearn-color-background);\n",
       "}\n",
       "\n",
       "#sk-container-id-7 div.sk-container {\n",
       "  /* jupyter's `normalize.less` sets `[hidden] { display: none; }`\n",
       "     but bootstrap.min.css set `[hidden] { display: none !important; }`\n",
       "     so we also need the `!important` here to be able to override the\n",
       "     default hidden behavior on the sphinx rendered scikit-learn.org.\n",
       "     See: https://github.com/scikit-learn/scikit-learn/issues/21755 */\n",
       "  display: inline-block !important;\n",
       "  position: relative;\n",
       "}\n",
       "\n",
       "#sk-container-id-7 div.sk-text-repr-fallback {\n",
       "  display: none;\n",
       "}\n",
       "\n",
       "div.sk-parallel-item,\n",
       "div.sk-serial,\n",
       "div.sk-item {\n",
       "  /* draw centered vertical line to link estimators */\n",
       "  background-image: linear-gradient(var(--sklearn-color-text-on-default-background), var(--sklearn-color-text-on-default-background));\n",
       "  background-size: 2px 100%;\n",
       "  background-repeat: no-repeat;\n",
       "  background-position: center center;\n",
       "}\n",
       "\n",
       "/* Parallel-specific style estimator block */\n",
       "\n",
       "#sk-container-id-7 div.sk-parallel-item::after {\n",
       "  content: \"\";\n",
       "  width: 100%;\n",
       "  border-bottom: 2px solid var(--sklearn-color-text-on-default-background);\n",
       "  flex-grow: 1;\n",
       "}\n",
       "\n",
       "#sk-container-id-7 div.sk-parallel {\n",
       "  display: flex;\n",
       "  align-items: stretch;\n",
       "  justify-content: center;\n",
       "  background-color: var(--sklearn-color-background);\n",
       "  position: relative;\n",
       "}\n",
       "\n",
       "#sk-container-id-7 div.sk-parallel-item {\n",
       "  display: flex;\n",
       "  flex-direction: column;\n",
       "}\n",
       "\n",
       "#sk-container-id-7 div.sk-parallel-item:first-child::after {\n",
       "  align-self: flex-end;\n",
       "  width: 50%;\n",
       "}\n",
       "\n",
       "#sk-container-id-7 div.sk-parallel-item:last-child::after {\n",
       "  align-self: flex-start;\n",
       "  width: 50%;\n",
       "}\n",
       "\n",
       "#sk-container-id-7 div.sk-parallel-item:only-child::after {\n",
       "  width: 0;\n",
       "}\n",
       "\n",
       "/* Serial-specific style estimator block */\n",
       "\n",
       "#sk-container-id-7 div.sk-serial {\n",
       "  display: flex;\n",
       "  flex-direction: column;\n",
       "  align-items: center;\n",
       "  background-color: var(--sklearn-color-background);\n",
       "  padding-right: 1em;\n",
       "  padding-left: 1em;\n",
       "}\n",
       "\n",
       "\n",
       "/* Toggleable style: style used for estimator/Pipeline/ColumnTransformer box that is\n",
       "clickable and can be expanded/collapsed.\n",
       "- Pipeline and ColumnTransformer use this feature and define the default style\n",
       "- Estimators will overwrite some part of the style using the `sk-estimator` class\n",
       "*/\n",
       "\n",
       "/* Pipeline and ColumnTransformer style (default) */\n",
       "\n",
       "#sk-container-id-7 div.sk-toggleable {\n",
       "  /* Default theme specific background. It is overwritten whether we have a\n",
       "  specific estimator or a Pipeline/ColumnTransformer */\n",
       "  background-color: var(--sklearn-color-background);\n",
       "}\n",
       "\n",
       "/* Toggleable label */\n",
       "#sk-container-id-7 label.sk-toggleable__label {\n",
       "  cursor: pointer;\n",
       "  display: block;\n",
       "  width: 100%;\n",
       "  margin-bottom: 0;\n",
       "  padding: 0.5em;\n",
       "  box-sizing: border-box;\n",
       "  text-align: center;\n",
       "}\n",
       "\n",
       "#sk-container-id-7 label.sk-toggleable__label-arrow:before {\n",
       "  /* Arrow on the left of the label */\n",
       "  content: \"▸\";\n",
       "  float: left;\n",
       "  margin-right: 0.25em;\n",
       "  color: var(--sklearn-color-icon);\n",
       "}\n",
       "\n",
       "#sk-container-id-7 label.sk-toggleable__label-arrow:hover:before {\n",
       "  color: var(--sklearn-color-text);\n",
       "}\n",
       "\n",
       "/* Toggleable content - dropdown */\n",
       "\n",
       "#sk-container-id-7 div.sk-toggleable__content {\n",
       "  max-height: 0;\n",
       "  max-width: 0;\n",
       "  overflow: hidden;\n",
       "  text-align: left;\n",
       "  /* unfitted */\n",
       "  background-color: var(--sklearn-color-unfitted-level-0);\n",
       "}\n",
       "\n",
       "#sk-container-id-7 div.sk-toggleable__content.fitted {\n",
       "  /* fitted */\n",
       "  background-color: var(--sklearn-color-fitted-level-0);\n",
       "}\n",
       "\n",
       "#sk-container-id-7 div.sk-toggleable__content pre {\n",
       "  margin: 0.2em;\n",
       "  border-radius: 0.25em;\n",
       "  color: var(--sklearn-color-text);\n",
       "  /* unfitted */\n",
       "  background-color: var(--sklearn-color-unfitted-level-0);\n",
       "}\n",
       "\n",
       "#sk-container-id-7 div.sk-toggleable__content.fitted pre {\n",
       "  /* unfitted */\n",
       "  background-color: var(--sklearn-color-fitted-level-0);\n",
       "}\n",
       "\n",
       "#sk-container-id-7 input.sk-toggleable__control:checked~div.sk-toggleable__content {\n",
       "  /* Expand drop-down */\n",
       "  max-height: 200px;\n",
       "  max-width: 100%;\n",
       "  overflow: auto;\n",
       "}\n",
       "\n",
       "#sk-container-id-7 input.sk-toggleable__control:checked~label.sk-toggleable__label-arrow:before {\n",
       "  content: \"▾\";\n",
       "}\n",
       "\n",
       "/* Pipeline/ColumnTransformer-specific style */\n",
       "\n",
       "#sk-container-id-7 div.sk-label input.sk-toggleable__control:checked~label.sk-toggleable__label {\n",
       "  color: var(--sklearn-color-text);\n",
       "  background-color: var(--sklearn-color-unfitted-level-2);\n",
       "}\n",
       "\n",
       "#sk-container-id-7 div.sk-label.fitted input.sk-toggleable__control:checked~label.sk-toggleable__label {\n",
       "  background-color: var(--sklearn-color-fitted-level-2);\n",
       "}\n",
       "\n",
       "/* Estimator-specific style */\n",
       "\n",
       "/* Colorize estimator box */\n",
       "#sk-container-id-7 div.sk-estimator input.sk-toggleable__control:checked~label.sk-toggleable__label {\n",
       "  /* unfitted */\n",
       "  background-color: var(--sklearn-color-unfitted-level-2);\n",
       "}\n",
       "\n",
       "#sk-container-id-7 div.sk-estimator.fitted input.sk-toggleable__control:checked~label.sk-toggleable__label {\n",
       "  /* fitted */\n",
       "  background-color: var(--sklearn-color-fitted-level-2);\n",
       "}\n",
       "\n",
       "#sk-container-id-7 div.sk-label label.sk-toggleable__label,\n",
       "#sk-container-id-7 div.sk-label label {\n",
       "  /* The background is the default theme color */\n",
       "  color: var(--sklearn-color-text-on-default-background);\n",
       "}\n",
       "\n",
       "/* On hover, darken the color of the background */\n",
       "#sk-container-id-7 div.sk-label:hover label.sk-toggleable__label {\n",
       "  color: var(--sklearn-color-text);\n",
       "  background-color: var(--sklearn-color-unfitted-level-2);\n",
       "}\n",
       "\n",
       "/* Label box, darken color on hover, fitted */\n",
       "#sk-container-id-7 div.sk-label.fitted:hover label.sk-toggleable__label.fitted {\n",
       "  color: var(--sklearn-color-text);\n",
       "  background-color: var(--sklearn-color-fitted-level-2);\n",
       "}\n",
       "\n",
       "/* Estimator label */\n",
       "\n",
       "#sk-container-id-7 div.sk-label label {\n",
       "  font-family: monospace;\n",
       "  font-weight: bold;\n",
       "  display: inline-block;\n",
       "  line-height: 1.2em;\n",
       "}\n",
       "\n",
       "#sk-container-id-7 div.sk-label-container {\n",
       "  text-align: center;\n",
       "}\n",
       "\n",
       "/* Estimator-specific */\n",
       "#sk-container-id-7 div.sk-estimator {\n",
       "  font-family: monospace;\n",
       "  border: 1px dotted var(--sklearn-color-border-box);\n",
       "  border-radius: 0.25em;\n",
       "  box-sizing: border-box;\n",
       "  margin-bottom: 0.5em;\n",
       "  /* unfitted */\n",
       "  background-color: var(--sklearn-color-unfitted-level-0);\n",
       "}\n",
       "\n",
       "#sk-container-id-7 div.sk-estimator.fitted {\n",
       "  /* fitted */\n",
       "  background-color: var(--sklearn-color-fitted-level-0);\n",
       "}\n",
       "\n",
       "/* on hover */\n",
       "#sk-container-id-7 div.sk-estimator:hover {\n",
       "  /* unfitted */\n",
       "  background-color: var(--sklearn-color-unfitted-level-2);\n",
       "}\n",
       "\n",
       "#sk-container-id-7 div.sk-estimator.fitted:hover {\n",
       "  /* fitted */\n",
       "  background-color: var(--sklearn-color-fitted-level-2);\n",
       "}\n",
       "\n",
       "/* Specification for estimator info (e.g. \"i\" and \"?\") */\n",
       "\n",
       "/* Common style for \"i\" and \"?\" */\n",
       "\n",
       ".sk-estimator-doc-link,\n",
       "a:link.sk-estimator-doc-link,\n",
       "a:visited.sk-estimator-doc-link {\n",
       "  float: right;\n",
       "  font-size: smaller;\n",
       "  line-height: 1em;\n",
       "  font-family: monospace;\n",
       "  background-color: var(--sklearn-color-background);\n",
       "  border-radius: 1em;\n",
       "  height: 1em;\n",
       "  width: 1em;\n",
       "  text-decoration: none !important;\n",
       "  margin-left: 1ex;\n",
       "  /* unfitted */\n",
       "  border: var(--sklearn-color-unfitted-level-1) 1pt solid;\n",
       "  color: var(--sklearn-color-unfitted-level-1);\n",
       "}\n",
       "\n",
       ".sk-estimator-doc-link.fitted,\n",
       "a:link.sk-estimator-doc-link.fitted,\n",
       "a:visited.sk-estimator-doc-link.fitted {\n",
       "  /* fitted */\n",
       "  border: var(--sklearn-color-fitted-level-1) 1pt solid;\n",
       "  color: var(--sklearn-color-fitted-level-1);\n",
       "}\n",
       "\n",
       "/* On hover */\n",
       "div.sk-estimator:hover .sk-estimator-doc-link:hover,\n",
       ".sk-estimator-doc-link:hover,\n",
       "div.sk-label-container:hover .sk-estimator-doc-link:hover,\n",
       ".sk-estimator-doc-link:hover {\n",
       "  /* unfitted */\n",
       "  background-color: var(--sklearn-color-unfitted-level-3);\n",
       "  color: var(--sklearn-color-background);\n",
       "  text-decoration: none;\n",
       "}\n",
       "\n",
       "div.sk-estimator.fitted:hover .sk-estimator-doc-link.fitted:hover,\n",
       ".sk-estimator-doc-link.fitted:hover,\n",
       "div.sk-label-container:hover .sk-estimator-doc-link.fitted:hover,\n",
       ".sk-estimator-doc-link.fitted:hover {\n",
       "  /* fitted */\n",
       "  background-color: var(--sklearn-color-fitted-level-3);\n",
       "  color: var(--sklearn-color-background);\n",
       "  text-decoration: none;\n",
       "}\n",
       "\n",
       "/* Span, style for the box shown on hovering the info icon */\n",
       ".sk-estimator-doc-link span {\n",
       "  display: none;\n",
       "  z-index: 9999;\n",
       "  position: relative;\n",
       "  font-weight: normal;\n",
       "  right: .2ex;\n",
       "  padding: .5ex;\n",
       "  margin: .5ex;\n",
       "  width: min-content;\n",
       "  min-width: 20ex;\n",
       "  max-width: 50ex;\n",
       "  color: var(--sklearn-color-text);\n",
       "  box-shadow: 2pt 2pt 4pt #999;\n",
       "  /* unfitted */\n",
       "  background: var(--sklearn-color-unfitted-level-0);\n",
       "  border: .5pt solid var(--sklearn-color-unfitted-level-3);\n",
       "}\n",
       "\n",
       ".sk-estimator-doc-link.fitted span {\n",
       "  /* fitted */\n",
       "  background: var(--sklearn-color-fitted-level-0);\n",
       "  border: var(--sklearn-color-fitted-level-3);\n",
       "}\n",
       "\n",
       ".sk-estimator-doc-link:hover span {\n",
       "  display: block;\n",
       "}\n",
       "\n",
       "/* \"?\"-specific style due to the `<a>` HTML tag */\n",
       "\n",
       "#sk-container-id-7 a.estimator_doc_link {\n",
       "  float: right;\n",
       "  font-size: 1rem;\n",
       "  line-height: 1em;\n",
       "  font-family: monospace;\n",
       "  background-color: var(--sklearn-color-background);\n",
       "  border-radius: 1rem;\n",
       "  height: 1rem;\n",
       "  width: 1rem;\n",
       "  text-decoration: none;\n",
       "  /* unfitted */\n",
       "  color: var(--sklearn-color-unfitted-level-1);\n",
       "  border: var(--sklearn-color-unfitted-level-1) 1pt solid;\n",
       "}\n",
       "\n",
       "#sk-container-id-7 a.estimator_doc_link.fitted {\n",
       "  /* fitted */\n",
       "  border: var(--sklearn-color-fitted-level-1) 1pt solid;\n",
       "  color: var(--sklearn-color-fitted-level-1);\n",
       "}\n",
       "\n",
       "/* On hover */\n",
       "#sk-container-id-7 a.estimator_doc_link:hover {\n",
       "  /* unfitted */\n",
       "  background-color: var(--sklearn-color-unfitted-level-3);\n",
       "  color: var(--sklearn-color-background);\n",
       "  text-decoration: none;\n",
       "}\n",
       "\n",
       "#sk-container-id-7 a.estimator_doc_link.fitted:hover {\n",
       "  /* fitted */\n",
       "  background-color: var(--sklearn-color-fitted-level-3);\n",
       "}\n",
       "</style><div id=\"sk-container-id-7\" class=\"sk-top-container\"><div class=\"sk-text-repr-fallback\"><pre>KNeighborsClassifier(metric=&#x27;cosine&#x27;, n_neighbors=10)</pre><b>In a Jupyter environment, please rerun this cell to show the HTML representation or trust the notebook. <br />On GitHub, the HTML representation is unable to render, please try loading this page with nbviewer.org.</b></div><div class=\"sk-container\" hidden><div class=\"sk-item\"><div class=\"sk-estimator fitted sk-toggleable\"><input class=\"sk-toggleable__control sk-hidden--visually\" id=\"sk-estimator-id-7\" type=\"checkbox\" checked><label for=\"sk-estimator-id-7\" class=\"sk-toggleable__label fitted sk-toggleable__label-arrow fitted\">&nbsp;&nbsp;KNeighborsClassifier<a class=\"sk-estimator-doc-link fitted\" rel=\"noreferrer\" target=\"_blank\" href=\"https://scikit-learn.org/1.5/modules/generated/sklearn.neighbors.KNeighborsClassifier.html\">?<span>Documentation for KNeighborsClassifier</span></a><span class=\"sk-estimator-doc-link fitted\">i<span>Fitted</span></span></label><div class=\"sk-toggleable__content fitted\"><pre>KNeighborsClassifier(metric=&#x27;cosine&#x27;, n_neighbors=10)</pre></div> </div></div></div></div>"
      ],
      "text/plain": [
       "KNeighborsClassifier(metric='cosine', n_neighbors=10)"
      ]
     },
     "execution_count": 129,
     "metadata": {},
     "output_type": "execute_result"
    }
   ],
   "source": [
    "model.fit(util_matrix_train, y=df_train['Category'].map(reverse_categories))"
   ]
  },
  {
   "cell_type": "code",
   "execution_count": 130,
   "metadata": {},
   "outputs": [],
   "source": [
    "predicted_labels = model.predict(util_matrix_train)"
   ]
  },
  {
   "cell_type": "code",
   "execution_count": 131,
   "metadata": {},
   "outputs": [],
   "source": [
    "def find_perm(predicted_labels, df):\n",
    "    best_acc = 0\n",
    "    best_perm = None\n",
    "    \n",
    "    for perm in permutations(categories.values()):\n",
    "        reverse_categories = {v:k for k,v in enumerate(perm)}\n",
    "        true_labels = df['Category'].map(reverse_categories)\n",
    "        acc = accuracy_score(predicted_labels, true_labels)\n",
    "    \n",
    "        if acc > best_acc:\n",
    "            best_perm = perm\n",
    "            best_acc = acc\n",
    "\n",
    "    return best_acc, best_perm"
   ]
  },
  {
   "cell_type": "code",
   "execution_count": 132,
   "metadata": {},
   "outputs": [
    {
     "name": "stdout",
     "output_type": "stream",
     "text": [
      "0.9585666293393057\n",
      "('tech', 'politics', 'sport', 'business', 'entertainment')\n"
     ]
    }
   ],
   "source": [
    "    \n",
    "best_acc, best_perm = find_perm(predicted_labels, df_train)\n",
    "\n",
    "print(best_acc)\n",
    "print(best_perm)"
   ]
  },
  {
   "cell_type": "code",
   "execution_count": 133,
   "metadata": {},
   "outputs": [
    {
     "data": {
      "text/plain": [
       "(0.9464285714285714,\n",
       " ('tech', 'politics', 'sport', 'business', 'entertainment'))"
      ]
     },
     "execution_count": 133,
     "metadata": {},
     "output_type": "execute_result"
    }
   ],
   "source": [
    "predicted_labels = model.predict(util_matrix_eval)\n",
    "find_perm(predicted_labels, df_eval)"
   ]
  },
  {
   "cell_type": "markdown",
   "metadata": {},
   "source": [
    "# Unsupervised Approach"
   ]
  },
  {
   "cell_type": "code",
   "execution_count": 138,
   "metadata": {},
   "outputs": [],
   "source": [
    "nmf_model = NMF(n_components=len(categories))\n",
    "\n",
    "nmf_model.fit(tfidf_vec)\n",
    "W_train = nmf_model.transform(tfidf_vec)\n",
    "W_eval = nmf_model.transform(tfidf_vec_eval)\n",
    "H = nmf_model.components_"
   ]
  },
  {
   "cell_type": "code",
   "execution_count": 139,
   "metadata": {},
   "outputs": [],
   "source": [
    "predicted_train = np.argmax(W_train, axis=1)\n",
    "predicted_eval = np.argmax(W_eval, axis=1)"
   ]
  },
  {
   "cell_type": "code",
   "execution_count": 140,
   "metadata": {},
   "outputs": [
    {
     "data": {
      "text/plain": [
       "(0.9126539753639418,\n",
       " ('sport', 'politics', 'tech', 'entertainment', 'business'))"
      ]
     },
     "execution_count": 140,
     "metadata": {},
     "output_type": "execute_result"
    }
   ],
   "source": [
    "find_perm(predicted_train, df_train)"
   ]
  },
  {
   "cell_type": "code",
   "execution_count": 141,
   "metadata": {},
   "outputs": [
    {
     "data": {
      "text/plain": [
       "(0.90625, ('sport', 'politics', 'tech', 'entertainment', 'business'))"
      ]
     },
     "execution_count": 141,
     "metadata": {},
     "output_type": "execute_result"
    }
   ],
   "source": [
    "find_perm(predicted_eval, df_eval)"
   ]
  },
  {
   "cell_type": "markdown",
   "metadata": {},
   "source": [
    "# Interpretation"
   ]
  },
  {
   "cell_type": "markdown",
   "metadata": {},
   "source": [
    "It seems like both the supervised and unsupervised approaches yielded pretty good performance in the training set, although the supervised approached using word2vec did perform better. Using NMF we couldn't utilize the power of word embeddings because the embedding vectors contain negative values."
   ]
  },
  {
   "cell_type": "code",
   "execution_count": null,
   "metadata": {},
   "outputs": [],
   "source": []
  }
 ],
 "metadata": {
  "kaggle": {
   "accelerator": "none",
   "dataSources": [
    {
     "databundleVersionId": 324297,
     "sourceId": 13351,
     "sourceType": "competition"
    }
   ],
   "dockerImageVersionId": 30786,
   "isGpuEnabled": false,
   "isInternetEnabled": true,
   "language": "python",
   "sourceType": "notebook"
  },
  "kernelspec": {
   "display_name": "Python 3 (ipykernel)",
   "language": "python",
   "name": "python3"
  },
  "language_info": {
   "codemirror_mode": {
    "name": "ipython",
    "version": 3
   },
   "file_extension": ".py",
   "mimetype": "text/x-python",
   "name": "python",
   "nbconvert_exporter": "python",
   "pygments_lexer": "ipython3",
   "version": "3.11.3"
  }
 },
 "nbformat": 4,
 "nbformat_minor": 4
}
